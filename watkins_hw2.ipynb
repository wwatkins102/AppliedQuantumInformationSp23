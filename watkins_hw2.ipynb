{
 "cells": [
  {
   "cell_type": "code",
   "execution_count": 55,
   "id": "99e46ecd",
   "metadata": {},
   "outputs": [],
   "source": [
    "import numpy as np\n",
    "import matplotlib.pyplot as pyplot\n",
    "import scipy\n",
    "import qiskit as qk\n",
    "\n",
    "from qiskit.providers.aer.noise import NoiseModel\n",
    "from qiskit.tools.visualization import plot_histogram\n",
    "from qiskit import IBMQ\n",
    "from qiskit.tools.monitor import job_monitor\n",
    "from qiskit.providers.aer.noise import NoiseModel, depolarizing_error\n",
    "import matplotlib\n",
    "import matplotlib.pyplot as plt\n",
    "%matplotlib inline"
   ]
  },
  {
   "cell_type": "code",
   "execution_count": 44,
   "id": "0eb5f452",
   "metadata": {},
   "outputs": [
    {
     "data": {
      "text/plain": [
       "<qiskit.circuit.instructionset.InstructionSet at 0x264ff0ac250>"
      ]
     },
     "execution_count": 44,
     "metadata": {},
     "output_type": "execute_result"
    }
   ],
   "source": [
    "qreg = qk.QuantumRegister(3,'qreg')\n",
    "creg = qk.ClassicalRegister(1,'creg')\n",
    "swap_test_circuit = qk.QuantumCircuit(qreg,creg)\n",
    "\n",
    "swap_test_circuit.h(0)\n",
    "# init phi state to be +\n",
    "swap_test_circuit.h(2)\n",
    "\n",
    "\n",
    "swap_test_circuit.cswap(0, 1, 2)\n",
    "swap_test_circuit.h(0)\n",
    "\n",
    "swap_test_circuit.measure(qreg[0],creg[0])"
   ]
  },
  {
   "cell_type": "code",
   "execution_count": 45,
   "id": "83a73ce0",
   "metadata": {},
   "outputs": [
    {
     "name": "stdout",
     "output_type": "stream",
     "text": [
      "        ┌───┐   ┌───┐┌─┐\n",
      "qreg_0: ┤ H ├─■─┤ H ├┤M├\n",
      "        └───┘ │ └───┘└╥┘\n",
      "qreg_1: ──────X───────╫─\n",
      "        ┌───┐ │       ║ \n",
      "qreg_2: ┤ H ├─X───────╫─\n",
      "        └───┘         ║ \n",
      "creg: 1/══════════════╩═\n",
      "                      0 \n"
     ]
    }
   ],
   "source": [
    "print(swap_test_circuit)"
   ]
  },
  {
   "cell_type": "code",
   "execution_count": 46,
   "id": "8b61b64f",
   "metadata": {},
   "outputs": [],
   "source": [
    "backend = qk.Aer.get_backend('qasm_simulator')\n",
    "#noise_model = NoiseModel.from_backend(backend)\n",
    "#backend = qiskit.QasmSimulator(method='density_matrix', noise_model=noise_model)"
   ]
  },
  {
   "cell_type": "code",
   "execution_count": 49,
   "id": "21a9f32c",
   "metadata": {},
   "outputs": [],
   "source": [
    "n_shots = 1000\n",
    "# job = backend.run(circ, shots=1000) # repeat the experiment 1000 times\n",
    "job = qk.execute(swap_test_circuit, backend=backend,shots=n_shots)\n",
    "result = job.result()"
   ]
  },
  {
   "cell_type": "code",
   "execution_count": 50,
   "id": "7e18916a",
   "metadata": {},
   "outputs": [
    {
     "data": {
      "text/plain": [
       "{'0': 745, '1': 255}"
      ]
     },
     "execution_count": 50,
     "metadata": {},
     "output_type": "execute_result"
    }
   ],
   "source": [
    "result.get_counts()"
   ]
  },
  {
   "cell_type": "code",
   "execution_count": 51,
   "id": "9636beb8",
   "metadata": {},
   "outputs": [
    {
     "name": "stdout",
     "output_type": "stream",
     "text": [
      "P(0) =  0.745\n"
     ]
    }
   ],
   "source": [
    "print(\"P(0) = \", result.get_counts()['0']/n_shots)"
   ]
  },
  {
   "cell_type": "code",
   "execution_count": 89,
   "id": "2d4863f5",
   "metadata": {},
   "outputs": [],
   "source": [
    "def get_noisy_results(p_error):\n",
    "    # Create an empty noise model\n",
    "    noise_model = NoiseModel()\n",
    "\n",
    "    # Add depolarizing error to all single qubit u1, u2, u3 gates\n",
    "    error = depolarizing_error(p_error, 1)\n",
    "    noise_model.add_all_qubit_quantum_error(error, ['h'])\n",
    "\n",
    "    basis_gates = noise_model.basis_gates\n",
    "\n",
    "    # Print noise model info\n",
    "    #print(noise_model)\n",
    "\n",
    "    n_shots = 5000\n",
    "    # job = backend.run(circ, shots=1000) # repeat the experiment 1000 times\n",
    "    job = qk.execute(swap_test_circuit, backend=backend,shots=n_shots, basis_gates = basis_gates, noise_model = noise_model)\n",
    "    noisy_results = job.result()\n",
    "\n",
    "    #print(noisy_results.get_counts())\n",
    "    return noisy_results.get_counts()['0']/n_shots"
   ]
  },
  {
   "cell_type": "code",
   "execution_count": 90,
   "id": "63a05192",
   "metadata": {},
   "outputs": [
    {
     "name": "stdout",
     "output_type": "stream",
     "text": [
      "0.7244\n"
     ]
    }
   ],
   "source": [
    "print( get_noisy_results(0.05) )"
   ]
  },
  {
   "cell_type": "code",
   "execution_count": 93,
   "id": "0a656502",
   "metadata": {},
   "outputs": [],
   "source": [
    "xrange = np.linspace(0, 1, 20)\n",
    "noisy_prob_0 = []\n",
    "for p in xrange:\n",
    "    #print( get_noisy_results(p) )\n",
    "    noisy_prob_0.append( get_noisy_results(p) )"
   ]
  },
  {
   "cell_type": "code",
   "execution_count": 94,
   "id": "825e6b53",
   "metadata": {},
   "outputs": [
    {
     "data": {
      "text/plain": [
       "[<matplotlib.lines.Line2D at 0x264ff9395a0>]"
      ]
     },
     "execution_count": 94,
     "metadata": {},
     "output_type": "execute_result"
    },
    {
     "data": {
      "image/png": "[encoded data removed]",
      "text/plain": [
       "<Figure size 640x480 with 1 Axes>"
      ]
     },
     "metadata": {},
     "output_type": "display_data"
    }
   ],
   "source": [
    "pyplot.plot(xrange, noisy_prob_0)"
   ]
  },
  {
   "cell_type": "code",
   "execution_count": null,
   "id": "11e38fdd",
   "metadata": {},
   "outputs": [],
   "source": []
  }
 ],
 "metadata": {
  "kernelspec": {
   "display_name": "Python 3 (ipykernel)",
   "language": "python",
   "name": "python3"
  },
  "language_info": {
   "codemirror_mode": {
    "name": "ipython",
    "version": 3
   },
   "file_extension": ".py",
   "mimetype": "text/x-python",
   "name": "python",
   "nbconvert_exporter": "python",
   "pygments_lexer": "ipython3",
   "version": "3.10.10"
  }
 },
 "nbformat": 4,
 "nbformat_minor": 5
}
